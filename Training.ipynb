{
 "cells": [
  {
   "cell_type": "code",
   "execution_count": 11,
   "metadata": {},
   "outputs": [],
   "source": [
    "import nltk\n",
    "from nltk.corpus import stopwords\n",
    "from nltk.stem import PorterStemmer\n",
    "from nltk.tokenize import word_tokenize,PunktSentenceTokenizer\n",
    "import matplotlib as mp\n",
    "from nltk.corpus import state_union\n",
    "import random\n",
    "from nltk.corpus import movie_reviews\n",
    "import pickle\n",
    "from nltk.classify import ClassifierI\n",
    "from statistics import mode\n",
    "from nltk.classify.scikitlearn import SklearnClassifier\n",
    "from sklearn.naive_bayes import MultinomialNB,BernoulliNB\n",
    "from sklearn.linear_model import LogisticRegression,SGDClassifier\n",
    "from sklearn.svm import SVC,LinearSVC,NuSVC\n",
    "from nltk.tokenize import word_tokenize\n",
    "import os\n",
    "import pandas as pd\n",
    "\n",
    "class VoteClassifier(ClassifierI):\n",
    "    def __init__(self,*classifiers):\n",
    "        self._classifiers=classifiers\n",
    "    \n",
    "    def classify(self,features):\n",
    "        votes=[]\n",
    "        for c in self._classifiers:\n",
    "            v=c.classify(features)\n",
    "            votes.append(v)\n",
    "        return mode(votes)\n",
    "    \n",
    "    def confidence(self,features):        \n",
    "        votes=[]\n",
    "        for c in self._classifiers:\n",
    "            v=c.classify(features)\n",
    "            votes.append(v)\n",
    "        choice_votes=votes.count(mode(votes))\n",
    "        confidence_level=(choice_votes/len(votes))\n",
    "        return confidence_level"
   ]
  },
  {
   "cell_type": "code",
   "execution_count": 21,
   "metadata": {},
   "outputs": [],
   "source": [
    "short_pos=open(\"C:/Users/HP/Downloads/positive.txt\",\"r\").read()\n",
    "short_neg=open(\"C:/Users/HP/Downloads/negative.txt\",\"r\").read()\n",
    "\n",
    "documents=[(list(movie_reviews.words(fileid)), category)\n",
    "            for category in movie_reviews.categories()\n",
    "            for fileid in movie_reviews.fileids(category)]\n",
    "random.shuffle(documents)\n",
    "\n",
    "all_words=[]\n",
    "documents=[]\n",
    "allowed_word_types=[\"J\",\"R\",\"V\"]\n",
    "#J is adject,r is adverb,v is verb\n",
    "#---------------------------------------------LOGIC--------------------------------------------------------------\n",
    "stop_words=set(stopwords.words('english'))\n",
    "for p in short_pos.split(\"\\n\"):\n",
    "    documents.append((p,\"pos\"))\n",
    "    words=word_tokenize(p)\n",
    "    words=[w for w in words if not w in stop_words]\n",
    "     \n",
    "    position=nltk.pos_tag(words) #position_tag\n",
    "    for w in position:\n",
    "        if w[1][0] in allowed_word_types:\n",
    "            all_words.append(w[0].lower())\n",
    "\n",
    "for p in short_neg.split(\"\\n\"):\n",
    "    documents.append((p,\"neg\"))\n",
    "    words=word_tokenize(p)\n",
    "    words=[w for w in words if not w in stop_words]\n",
    "    position=nltk.pos_tag(words) #position_tag\n",
    "    for w in position:\n",
    "        if w[1][0] in allowed_word_types:\n",
    "            all_words.append(w[0].lower())"
   ]
  },
  {
   "cell_type": "code",
   "execution_count": 22,
   "metadata": {},
   "outputs": [],
   "source": [
    "#---------------------------------------------PICKLE(method 1)--------------------------------------------------------------\n",
    "os.chdir(\"C:/Users/HP/.spyder-py3\")\n",
    "\n",
    "with open(\"pickled_documents.pickle\",\"wb\") as save_documents:\n",
    "    pickle.dump(documents,save_documents)#(what do we want to dump,where to dump)\n",
    "    save_documents.close()"
   ]
  },
  {
   "cell_type": "code",
   "execution_count": 23,
   "metadata": {},
   "outputs": [
    {
     "name": "stdout",
     "output_type": "stream",
     "text": [
      "5332\n",
      "5332\n"
     ]
    }
   ],
   "source": [
    "k=pd.read_pickle(\"pickled_documents.pickle\", compression='infer')\n",
    "len_pos=0\n",
    "len_neg=0\n",
    "for i in k:\n",
    "    if i[1]=='pos':\n",
    "        len_pos+=1\n",
    "    else:\n",
    "        len_neg+=1\n",
    "print(len_pos)\n",
    "print(len_neg)"
   ]
  },
  {
   "cell_type": "code",
   "execution_count": 31,
   "metadata": {},
   "outputs": [],
   "source": [
    "#---------------------------------------------PICKLE(method 2)--------------------------------------------------------------\n",
    "all_words=nltk.FreqDist(all_words)\n",
    "word_features=list(all_words.keys())[:5000]\n",
    "\n",
    "save_word_features=open(\"pickled_word_features5k.pickle\",\"wb\")\n",
    "pickle.dump(word_features,save_word_features)\n",
    "save_word_features.close()\n",
    "\n",
    "def find_features(document):\n",
    "    words=word_tokenize(document)\n",
    "    features={}\n",
    "    for w in word_features:\n",
    "        features[w]= (w in words)\n",
    "    return features\n",
    "\n",
    "#print((find_features(movie_reviews.words(\"neg/cv000_29416.txt\"))))\n",
    "featuresets=[(find_features(rev),category) for (rev,category) in documents]\n",
    "\n",
    "random.shuffle(featuresets)\n",
    "\n",
    "save_classifier=open(\"pickled_featuresets5k.pickle\",\"wb\")\n",
    "pickle.dump(featuresets,save_classifier)\n",
    "save_classifier.close()\n",
    "\n",
    "training_set=featuresets[:9500]\n",
    "testing_set=featuresets[9500:]"
   ]
  },
  {
   "cell_type": "code",
   "execution_count": 44,
   "metadata": {},
   "outputs": [
    {
     "name": "stdout",
     "output_type": "stream",
     "text": [
      "Original_Classifier 69.67353951890034\n",
      "Most Informative Features\n",
      "              engrossing = True              pos : neg    =     21.3 : 1.0\n",
      "                captures = True              pos : neg    =     15.9 : 1.0\n",
      "               inventive = True              pos : neg    =     15.2 : 1.0\n",
      "                    dull = True              neg : pos    =     14.1 : 1.0\n",
      "              refreshing = True              pos : neg    =     13.9 : 1.0\n",
      "                    warm = True              pos : neg    =     13.2 : 1.0\n",
      "               wonderful = True              pos : neg    =     11.6 : 1.0\n",
      "                  stupid = True              neg : pos    =     10.8 : 1.0\n",
      "             mesmerizing = True              pos : neg    =     10.5 : 1.0\n",
      "                   quiet = True              pos : neg    =      9.9 : 1.0\n",
      "                provides = True              pos : neg    =      9.9 : 1.0\n",
      "                     son = True              pos : neg    =      9.8 : 1.0\n",
      "                 intense = True              pos : neg    =      9.8 : 1.0\n",
      "            refreshingly = True              pos : neg    =      9.8 : 1.0\n",
      "                powerful = True              pos : neg    =      9.1 : 1.0\n",
      "                  tender = True              pos : neg    =      9.1 : 1.0\n",
      "               realistic = True              pos : neg    =      9.1 : 1.0\n",
      "                     wry = True              pos : neg    =      9.1 : 1.0\n",
      "              apparently = True              neg : pos    =      8.9 : 1.0\n",
      "                  excuse = True              neg : pos    =      8.9 : 1.0\n",
      "SGDC accuracy 69.7594501718213\n"
     ]
    }
   ],
   "source": [
    "#CLASSIFIERS\n",
    "Original_classifier=nltk.NaiveBayesClassifier.train(training_set) \n",
    "print(\"Original_Classifier\",nltk.classify.accuracy(Original_classifier,testing_set)*100)\n",
    "Original_classifier.show_most_informative_features(20)\n",
    "save_classifier=open(\"pickled_originalnaivebayes5k.pickle\",\"wb\")   # will work without training again and again\n",
    "pickle.dump(Original_classifier,save_classifier)\n",
    "save_classifier.close()\n",
    "\n",
    "SGDC_classifier=SklearnClassifier(SGDClassifier(max_iter=1000))\n",
    "SGDC_classifier.train(training_set)\n",
    "print(\"SGDC accuracy\",nltk.classify.accuracy(SGDC_classifier,testing_set)*100)\n",
    "save_classifier=open(\"pickled_SGDC_classifier5k.pickle\",\"wb\")\n",
    "pickle.dump(SGDC_classifier,save_classifier)\n",
    "save_classifier.close()"
   ]
  },
  {
   "cell_type": "code",
   "execution_count": 33,
   "metadata": {},
   "outputs": [
    {
     "name": "stdout",
     "output_type": "stream",
     "text": [
      "MultinomialNB accuracy 70.27491408934708\n",
      "BernoulliNB accuracy 68.98625429553265\n"
     ]
    }
   ],
   "source": [
    "MNB_classifier=SklearnClassifier(MultinomialNB())\n",
    "MNB_classifier.train(training_set)\n",
    "print(\"MultinomialNB accuracy\",nltk.classify.accuracy(MNB_classifier,testing_set)*100)\n",
    "save_classifier=open(\"pickled_MNBclassifier5k.pickle\",\"wb\")\n",
    "pickle.dump(MNB_classifier,save_classifier)\n",
    "save_classifier.close()\n",
    "\n",
    "\n",
    "BernoulliNB_classifier=SklearnClassifier(BernoulliNB())\n",
    "BernoulliNB_classifier.train(training_set)\n",
    "print(\"BernoulliNB accuracy\",nltk.classify.accuracy(BernoulliNB_classifier,testing_set)*100)\n",
    "save_classifier=open(\"pickled_Bernoulli_classifier5k.pickle\",\"wb\")\n",
    "pickle.dump(BernoulliNB_classifier,save_classifier)\n",
    "save_classifier.close()\n"
   ]
  },
  {
   "cell_type": "code",
   "execution_count": 34,
   "metadata": {},
   "outputs": [
    {
     "name": "stdout",
     "output_type": "stream",
     "text": [
      "LogisticRegression accuracy 69.7594501718213\n",
      "SVC accuracy 47.07903780068728\n"
     ]
    }
   ],
   "source": [
    "LogisticRegression_classifier=SklearnClassifier(LogisticRegression())\n",
    "LogisticRegression_classifier.train(training_set)\n",
    "print(\"LogisticRegression accuracy\",nltk.classify.accuracy(LogisticRegression_classifier,testing_set)*100)\n",
    "save_classifier=open(\"pickled_LogisticRegression_classifier5k.pickle\",\"wb\")\n",
    "pickle.dump(LogisticRegression_classifier,save_classifier)\n",
    "save_classifier.close()\n",
    "\n",
    "\n",
    "SVC_classifier=SklearnClassifier(SVC())\n",
    "SVC_classifier.train(training_set)\n",
    "print(\"SVC accuracy\",nltk.classify.accuracy(SVC_classifier,testing_set)*100)\n",
    "save_classifier=open(\"pickled_SVC_classifier5k.pickle\",\"wb\")\n",
    "pickle.dump(SVC_classifier,save_classifier)\n",
    "save_classifier.close()"
   ]
  },
  {
   "cell_type": "code",
   "execution_count": 35,
   "metadata": {},
   "outputs": [
    {
     "name": "stdout",
     "output_type": "stream",
     "text": [
      "LinearSVC accuracy 67.26804123711341\n",
      "NuSVC accuracy 69.7594501718213\n"
     ]
    }
   ],
   "source": [
    "LinearSVC_classifier=SklearnClassifier(LinearSVC())\n",
    "LinearSVC_classifier.train(training_set)\n",
    "print(\"LinearSVC accuracy\",nltk.classify.accuracy(LinearSVC_classifier,testing_set)*100)\n",
    "save_classifier=open(\"pickled_LinearSVC_classifier5k.pickle\",\"wb\")\n",
    "pickle.dump(LinearSVC_classifier,save_classifier)\n",
    "save_classifier.close()\n",
    "\n",
    "\n",
    "NuSVC_classifier=SklearnClassifier(NuSVC())\n",
    "NuSVC_classifier.train(training_set)\n",
    "print(\"NuSVC accuracy\",nltk.classify.accuracy(NuSVC_classifier,testing_set)*100)\n",
    "save_classifier=open(\"pickled_NuSVC_classifier5k.pickle\",\"wb\")\n",
    "pickle.dump(NuSVC_classifier,save_classifier)\n",
    "save_classifier.close()"
   ]
  },
  {
   "cell_type": "code",
   "execution_count": 36,
   "metadata": {},
   "outputs": [
    {
     "name": "stdout",
     "output_type": "stream",
     "text": [
      "70.01718213058419\n"
     ]
    }
   ],
   "source": [
    "voted_classifier= VoteClassifier(Original_classifier,\n",
    "                                 MNB_classifier,\n",
    "                                 BernoulliNB_classifier,\n",
    "                                 SVC_classifier,\n",
    "                                 LogisticRegression_classifier,\n",
    "                                 LinearSVC_classifier,\n",
    "                                 NuSVC_classifier) \n",
    "\n",
    "print(nltk.classify.accuracy(voted_classifier,testing_set)*100)"
   ]
  },
  {
   "cell_type": "code",
   "execution_count": 38,
   "metadata": {},
   "outputs": [],
   "source": [
    "def sentiment(text):\n",
    "    feats=find_features(text)\n",
    "    #conf=VoteClassifier.confidence\n",
    "    return voted_classifier.classify(feats)"
   ]
  },
  {
   "cell_type": "code",
   "execution_count": 42,
   "metadata": {},
   "outputs": [
    {
     "name": "stdout",
     "output_type": "stream",
     "text": [
      "Classifier pos Confidence: 85.71428571428571\n",
      "Classifier neg Confidence: 100.0\n",
      "Classifier neg Confidence: 100.0\n",
      "Classifier neg Confidence: 100.0\n",
      "Classifier neg Confidence: 71.42857142857143\n",
      "Classifier neg Confidence: 100.0\n"
     ]
    }
   ],
   "source": [
    "print(\"Classifier\",voted_classifier.classify(testing_set[0][0]),\"Confidence:\",voted_classifier.confidence(testing_set[0][0])*100)\n",
    "print(\"Classifier\",voted_classifier.classify(testing_set[2][0]),\"Confidence:\",voted_classifier.confidence(testing_set[2][0])*100)\n",
    "print(\"Classifier\",voted_classifier.classify(testing_set[3][0]),\"Confidence:\",voted_classifier.confidence(testing_set[3][0])*100)\n",
    "print(\"Classifier\",voted_classifier.classify(testing_set[5][0]),\"Confidence:\",voted_classifier.confidence(testing_set[5][0])*100)\n",
    "print(\"Classifier\",voted_classifier.classify(testing_set[6][0]),\"Confidence:\",voted_classifier.confidence(testing_set[6][0])*100)\n",
    "print(\"Classifier\",voted_classifier.classify(testing_set[7][0]),\"Confidence:\",voted_classifier.confidence(testing_set[7][0])*100)"
   ]
  }
 ],
 "metadata": {
  "kernelspec": {
   "display_name": "Python 3",
   "language": "python",
   "name": "python3"
  },
  "language_info": {
   "codemirror_mode": {
    "name": "ipython",
    "version": 3
   },
   "file_extension": ".py",
   "mimetype": "text/x-python",
   "name": "python",
   "nbconvert_exporter": "python",
   "pygments_lexer": "ipython3",
   "version": "3.7.0"
  }
 },
 "nbformat": 4,
 "nbformat_minor": 2
}
