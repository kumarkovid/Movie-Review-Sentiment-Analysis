{
 "cells": [
  {
   "cell_type": "code",
   "execution_count": 1,
   "metadata": {},
   "outputs": [],
   "source": [
    "import nltk\n",
    "from nltk.stem import PorterStemmer\n",
    "from nltk.tokenize import word_tokenize,PunktSentenceTokenizer\n",
    "import matplotlib as mp\n",
    "from nltk.corpus import state_union\n",
    "import random\n",
    "from nltk.corpus import movie_reviews\n",
    "import pickle\n",
    "from nltk.classify import ClassifierI\n",
    "from statistics import mode\n",
    "from nltk.classify.scikitlearn import SklearnClassifier\n",
    "import os"
   ]
  },
  {
   "cell_type": "code",
   "execution_count": 2,
   "metadata": {},
   "outputs": [],
   "source": [
    "os.chdir(\"C:/Users/HP/.spyder-py3\")\n",
    "class VoteClassifier(ClassifierI):\n",
    "    def __init__(self,*classifiers):\n",
    "        self._classifiers=classifiers\n",
    "    \n",
    "    def classify(self,features):\n",
    "        votes=[]\n",
    "        for c in self._classifiers:\n",
    "            v=c.classify(features)\n",
    "            votes.append(v)\n",
    "        return mode(votes)\n",
    "    \n",
    "    def confidence(self,features):        \n",
    "        votes=[]\n",
    "        for c in self._classifiers:\n",
    "            v=c.classify(features)\n",
    "            votes.append(v)\n",
    "        choice_votes=votes.count(mode(votes))\n",
    "        confidence_level=(choice_votes/len(votes))\n",
    "        return confidence_level"
   ]
  },
  {
   "cell_type": "code",
   "execution_count": 35,
   "metadata": {},
   "outputs": [],
   "source": [
    "pickle_load_featuresets=open(\"pickled_featuresets5k.pickle\",\"rb\")\n",
    "featuresets=pickle.load(pickle_load_featuresets)\n",
    "\n",
    "random.shuffle(featuresets)\n",
    "training_set=featuresets[:9500]\n",
    "testing_set=featuresets[9500:]"
   ]
  },
  {
   "cell_type": "code",
   "execution_count": 5,
   "metadata": {},
   "outputs": [],
   "source": [
    "os.chdir(\"C:/Users/HP/.spyder-py3\")\n",
    "\n",
    "pickle_load_documents=open(\"pickled_documents.pickle\",\"rb\")   \n",
    "documents=pickle.load(pickle_load_documents)\n",
    "\n",
    "pickle_load_word_features=open(\"pickled_word_features5k.pickle\",\"rb\")   \n",
    "word_features=pickle.load(pickle_load_word_features)\n",
    "\n",
    "pickle_load_originalnaivebayes=open(\"pickled_originalnaivebayes5k.pickle\",\"rb\")\n",
    "original_naivebayes=pickle.load(pickle_load_originalnaivebayes)\n",
    "\n",
    "pickle_load_MNBclassifier=open(\"pickled_MNBclassifier5k.pickle\",\"rb\")\n",
    "MNB=pickle.load(pickle_load_MNBclassifier)\n",
    "\n",
    "pickle_load_LogisticRegression=open(\"pickled_LogisticRegression_classifier5k.pickle\",\"rb\")\n",
    "Logistic_Regression=pickle.load(pickle_load_LogisticRegression)\n",
    "\n",
    "pickle_load_BernoulliNB=open(\"pickled_Bernoulli_classifier5k.pickle\",\"rb\")\n",
    "Bernoulli_NB=pickle.load(pickle_load_BernoulliNB)\n",
    "\n",
    "pickle_load_SVC_classifier=open(\"pickled_SVC_classifier5k.pickle\",\"rb\")\n",
    "SVC=pickle.load(pickle_load_SVC_classifier)\n",
    "\n",
    "pickle_load_LinearSVC=open(\"pickled_LinearSVC_classifier5k.pickle\",\"rb\")\n",
    "Linear_SVC=pickle.load(pickle_load_LinearSVC)\n",
    "\n",
    "pickle_load_NuSVC=open(\"pickled_NuSVC_classifier5k.pickle\",\"rb\")\n",
    "Nu_SVC=pickle.load(pickle_load_NuSVC)\n",
    "\n",
    "pickle_load_SGDC=open(\"pickled_SGDC_classifier5k.pickle\",\"rb\")\n",
    "SGDC=pickle.load(pickle_load_SGDC)"
   ]
  },
  {
   "cell_type": "code",
   "execution_count": 6,
   "metadata": {
    "scrolled": true
   },
   "outputs": [],
   "source": [
    "def find_features(document):\n",
    "    words=word_tokenize(document)\n",
    "    features={}\n",
    "    for w in word_features:\n",
    "        features[w]= (w in words)\n",
    "    return features"
   ]
  },
  {
   "cell_type": "code",
   "execution_count": 32,
   "metadata": {},
   "outputs": [
    {
     "name": "stdout",
     "output_type": "stream",
     "text": [
      "('pos', 0.8571428571428571)\n"
     ]
    }
   ],
   "source": [
    "voted_classifier= VoteClassifier(original_naivebayes,\n",
    "                                 MNB,\n",
    "                                 Bernoulli_NB,\n",
    "                                 #SVC,\n",
    "                                 Logistic_Regression,\n",
    "                                 Linear_SVC,\n",
    "                                 Nu_SVC,\n",
    "                                 SGDC) \n",
    "\n",
    "#print(nltk.classify.accuracy(voted_classifier,testing_set)*100)\n",
    "\n",
    "def sentiment(text):\n",
    "    feats=find_features(text)\n",
    "    #conf=VoteClassifier.confidence\n",
    "    return voted_classifier.classify(feats),voted_classifier.confidence(feats)\n",
    "\n",
    "#print(sentiment(\"i really love the movie. The acting was natural and intense, but screenplay was slow and boring\"))"
   ]
  },
  {
   "cell_type": "code",
   "execution_count": 34,
   "metadata": {},
   "outputs": [],
   "source": [
    "#from textblob import TextBlob\n",
    "#review1=TextBlob(\"i really love the movie. The acting was natural and intense, but screenplay was slow and boring\")\n",
    "#print(review1.sentiment)"
   ]
  }
 ],
 "metadata": {
  "kernelspec": {
   "display_name": "Python 3",
   "language": "python",
   "name": "python3"
  },
  "language_info": {
   "codemirror_mode": {
    "name": "ipython",
    "version": 3
   },
   "file_extension": ".py",
   "mimetype": "text/x-python",
   "name": "python",
   "nbconvert_exporter": "python",
   "pygments_lexer": "ipython3",
   "version": "3.7.0"
  }
 },
 "nbformat": 4,
 "nbformat_minor": 2
}
